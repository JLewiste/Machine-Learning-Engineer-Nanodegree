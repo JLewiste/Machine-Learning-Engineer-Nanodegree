{
 "cells": [
  {
   "cell_type": "code",
   "execution_count": 1,
   "metadata": {
    "collapsed": false
   },
   "outputs": [],
   "source": [
    "import tensorflow as tf\n",
    "\n",
    "import scipy.io as sio\n",
    "import numpy as np\n",
    "import matplotlib.pyplot as plt\n",
    "from collections import Counter"
   ]
  },
  {
   "cell_type": "markdown",
   "metadata": {},
   "source": [
    "# Extract dataset and label them as train and test sets"
   ]
  },
  {
   "cell_type": "code",
   "execution_count": 2,
   "metadata": {
    "collapsed": false
   },
   "outputs": [],
   "source": [
    "train_X = sio.loadmat('/Users/johannes/Downloads/Capstone Project v2/SVHN Datasets/Format 2/train_32x32.mat')['X']\n",
    "train_y = sio.loadmat('/Users/johannes/Downloads/Capstone Project v2/SVHN Datasets/Format 2/train_32x32.mat')['y']\n",
    "\n",
    "test_X = sio.loadmat('/Users/johannes/Downloads/Capstone Project v2/SVHN Datasets/Format 2/test_32x32.mat')['X']\n",
    "test_y = sio.loadmat('/Users/johannes/Downloads/Capstone Project v2/SVHN Datasets/Format 2/test_32x32.mat')['y']"
   ]
  },
  {
   "cell_type": "markdown",
   "metadata": {},
   "source": [
    "# Print the shape of the images"
   ]
  },
  {
   "cell_type": "code",
   "execution_count": 3,
   "metadata": {
    "collapsed": false
   },
   "outputs": [
    {
     "name": "stdout",
     "output_type": "stream",
     "text": [
      "Training shape:  (32, 32, 3, 73257)\n",
      "Testing shape:  (32, 32, 3, 26032)\n"
     ]
    }
   ],
   "source": [
    "shape_train_X = train_X.shape\n",
    "shape_test_X = test_X.shape\n",
    "\n",
    "print 'Training shape: ', shape_train_X\n",
    "print 'Testing shape: ', shape_test_X"
   ]
  },
  {
   "cell_type": "markdown",
   "metadata": {},
   "source": [
    "# Pixel intensity statistical analysis"
   ]
  },
  {
   "cell_type": "code",
   "execution_count": 4,
   "metadata": {
    "collapsed": false
   },
   "outputs": [
    {
     "name": "stdout",
     "output_type": "stream",
     "text": [
      "Maximum pixel intensity(training data):  255\n",
      "Minimum pixel intensity(training data):  0\n",
      "Mean pixel intensity(training data):  115.111779669\n",
      "Median pixel intensity(training data):  111.0\n",
      "Standard deviation pixel intensity(training data):  50.8192679062\n"
     ]
    }
   ],
   "source": [
    "print 'Maximum pixel intensity(training data): ', np.max(train_X)\n",
    "print 'Minimum pixel intensity(training data): ', np.min(train_X)\n",
    "print 'Mean pixel intensity(training data): ', np.mean(train_X)\n",
    "print 'Median pixel intensity(training data): ', np.median(train_X)\n",
    "print 'Standard deviation pixel intensity(training data): ', np.std(train_X)"
   ]
  },
  {
   "cell_type": "code",
   "execution_count": 5,
   "metadata": {
    "collapsed": false
   },
   "outputs": [
    {
     "name": "stdout",
     "output_type": "stream",
     "text": [
      "Maximum pixel intensity(test data):  255\n",
      "Minimum pixel intensity(test data):  0\n",
      "Mean pixel intensity(test data):  116.781171171\n",
      "Median pixel intensity(test data):  114.0\n",
      "Standard deviation pixel intensity(test data):  57.3763665964\n"
     ]
    }
   ],
   "source": [
    "print 'Maximum pixel intensity(test data): ', np.max(test_X)\n",
    "print 'Minimum pixel intensity(test data): ', np.min(test_X)\n",
    "print 'Mean pixel intensity(test data): ', np.mean(test_X)\n",
    "print 'Median pixel intensity(test data): ', np.median(test_X)\n",
    "print 'Standard deviation pixel intensity(test data): ', np.std(test_X)"
   ]
  },
  {
   "cell_type": "markdown",
   "metadata": {},
   "source": [
    "# Plot frequency distribution graph (determine class distribution)"
   ]
  },
  {
   "cell_type": "code",
   "execution_count": 6,
   "metadata": {
    "collapsed": true
   },
   "outputs": [],
   "source": [
    "train_data = train_y.reshape(shape_train_X[3]).tolist()\n",
    "train_data = dict(Counter(train_data))"
   ]
  },
  {
   "cell_type": "code",
   "execution_count": 7,
   "metadata": {
    "collapsed": false
   },
   "outputs": [
    {
     "data": {
      "text/plain": [
       "{1: 13861,\n",
       " 2: 10585,\n",
       " 3: 8497,\n",
       " 4: 7458,\n",
       " 5: 6882,\n",
       " 6: 5727,\n",
       " 7: 5595,\n",
       " 8: 5045,\n",
       " 9: 4659,\n",
       " 10: 4948}"
      ]
     },
     "execution_count": 7,
     "metadata": {},
     "output_type": "execute_result"
    }
   ],
   "source": [
    "train_data"
   ]
  },
  {
   "cell_type": "code",
   "execution_count": 8,
   "metadata": {
    "collapsed": false
   },
   "outputs": [
    {
     "data": {
      "text/plain": [
       "([<matplotlib.axis.XTick at 0x11471bc50>,\n",
       "  <matplotlib.axis.XTick at 0x1147d1410>,\n",
       "  <matplotlib.axis.XTick at 0x12e350c50>,\n",
       "  <matplotlib.axis.XTick at 0x12e39a610>,\n",
       "  <matplotlib.axis.XTick at 0x12e39ad50>,\n",
       "  <matplotlib.axis.XTick at 0x12e3a94d0>,\n",
       "  <matplotlib.axis.XTick at 0x12e3a9c10>,\n",
       "  <matplotlib.axis.XTick at 0x12e3b3390>,\n",
       "  <matplotlib.axis.XTick at 0x12e3b3ad0>,\n",
       "  <matplotlib.axis.XTick at 0x115023650>],\n",
       " <a list of 10 Text xticklabel objects>)"
      ]
     },
     "execution_count": 8,
     "metadata": {},
     "output_type": "execute_result"
    }
   ],
   "source": [
    "plt.bar(range(len(train_data)), train_data.values(), align='center', color='green', label='Train Data')\n",
    "plt.xticks(range(len(train_data)), train_data.keys())"
   ]
  },
  {
   "cell_type": "code",
   "execution_count": 9,
   "metadata": {
    "collapsed": false
   },
   "outputs": [],
   "source": [
    "test_data = test_y.reshape(shape_test_X[3]).tolist()\n",
    "test_data = dict(Counter(test_data))"
   ]
  },
  {
   "cell_type": "code",
   "execution_count": 10,
   "metadata": {
    "collapsed": false
   },
   "outputs": [
    {
     "data": {
      "image/png": "[encoded data removed]",
      "text/plain": [
       "<matplotlib.figure.Figure at 0x1147097d0>"
      ]
     },
     "metadata": {},
     "output_type": "display_data"
    }
   ],
   "source": [
    "plt.bar(range(len(test_data)), test_data.values(), align='center', color='blue', label='Test Data')\n",
    "plt.legend()\n",
    "\n",
    "plt.xlabel('1-10 Digit Classes')\n",
    "plt.ylabel('Frequency')\n",
    "\n",
    "plt.title('Frequency Distribution of Digit Classes for SVHN Datasets')\n",
    "\n",
    "plt.show()"
   ]
  },
  {
   "cell_type": "markdown",
   "metadata": {},
   "source": [
    "# Normalize the datasets via (Pixel - 128) / 128 formula"
   ]
  },
  {
   "cell_type": "code",
   "execution_count": 11,
   "metadata": {
    "collapsed": true
   },
   "outputs": [],
   "source": [
    "train_X = (train_X.astype('float32') - 128.0 ) / 128.0 \n",
    "test_X = (test_X.astype('float32') - 128.0) / 128.0"
   ]
  },
  {
   "cell_type": "markdown",
   "metadata": {},
   "source": [
    "# Perform one hot encoding"
   ]
  },
  {
   "cell_type": "code",
   "execution_count": 12,
   "metadata": {
    "collapsed": true
   },
   "outputs": [],
   "source": [
    "def onehot_encoding(data, data_label):\n",
    "    data_size = data.shape[3]\n",
    "    \n",
    "    training_list = []\n",
    "    class_list = []\n",
    "    \n",
    "    for x in xrange(data_size):\n",
    "        training_list.append(data[:,:,:,x])\n",
    "        \n",
    "    for i in data_label:\n",
    "        label_zeros = np.zeros(10)\n",
    "        \n",
    "        if i == 1:\n",
    "            label_zeros[1] = 1\n",
    "        elif i == 2:\n",
    "            label_zeros[2] = 1\n",
    "        elif i == 3:\n",
    "            label_zeros[3] = 1\n",
    "        elif i == 4:\n",
    "            label_zeros[4] = 1\n",
    "        elif i == 5:\n",
    "            label_zeros[5] = 1\n",
    "        elif i == 6:\n",
    "            label_zeros[6] = 1\n",
    "        elif i == 7:\n",
    "            label_zeros[7] = 1\n",
    "        elif i == 8:\n",
    "            label_zeros[8] = 1\n",
    "        elif i == 9:\n",
    "            label_zeros[9] = 1\n",
    "        elif i == 10:\n",
    "            label_zeros[0] = 1\n",
    "            \n",
    "        class_list.append(label_zeros)\n",
    "    \n",
    "    class_list = np.asarray(class_list)\n",
    "    training_list = np.asarray(training_list)\n",
    "        \n",
    "    return training_list, class_list"
   ]
  },
  {
   "cell_type": "code",
   "execution_count": 13,
   "metadata": {
    "collapsed": false
   },
   "outputs": [],
   "source": [
    "train_X, train_y = onehot_encoding(train_X, train_y)\n",
    "test_X, test_y = onehot_encoding(test_X, test_y)"
   ]
  },
  {
   "cell_type": "markdown",
   "metadata": {
    "collapsed": true
   },
   "source": [
    "# Design convolutional neural network"
   ]
  },
  {
   "cell_type": "code",
   "execution_count": 14,
   "metadata": {
    "collapsed": true
   },
   "outputs": [],
   "source": [
    "# Train dataset\n",
    "tf_train_dataset = tf.placeholder(tf.float32, shape=(None, 32, 32, 3))\n",
    "\n",
    "# Train labels\n",
    "tf_train_labels = tf.placeholder(tf.float32, shape=(None, 10))\n",
    "\n",
    "# Test dataset\n",
    "tf_test_dataset = tf.constant(test_X)"
   ]
  },
  {
   "cell_type": "code",
   "execution_count": 15,
   "metadata": {
    "collapsed": true
   },
   "outputs": [],
   "source": [
    "image_size = 32\n",
    "dropout = 0.9\n",
    "batch = 16\n",
    "learning_rate = 0.001\n",
    "\n",
    "patch_size = 5\n",
    "patch_stride = 1\n",
    "pool_size = 2\n",
    "pool_stride = 2\n",
    "\n",
    "# Filter channels and depth for CONV 1\n",
    "conv1_channels = 3\n",
    "conv1_depth = 32\n",
    "\n",
    "# Filter channels and depth for CONV 2\n",
    "conv2_channels = 32\n",
    "conv2_depth = 64"
   ]
  },
  {
   "cell_type": "code",
   "execution_count": 16,
   "metadata": {
    "collapsed": false
   },
   "outputs": [],
   "source": [
    "# Weight and biases for RELU 1\n",
    "weight_conv1 = tf.Variable(tf.truncated_normal([patch_size, patch_size, conv1_channels, conv1_depth], stddev=0.1))\n",
    "bias_conv1 = tf.Variable(tf.constant(1.0, shape=[conv1_depth]))\n",
    "\n",
    "# Weight and biases for RELU 2\n",
    "weight_conv2 = tf.Variable(tf.truncated_normal([patch_size, patch_size, conv2_channels, conv2_depth], stddev=0.1))\n",
    "bias_conv2 = tf.Variable(tf.constant(1.0, shape=[conv2_depth]))\n",
    "\n",
    "# Weight and biases for RELU 3\n",
    "weight_fc1 = tf.Variable(tf.truncated_normal([8 * 8 * conv2_depth, 128], stddev=0.1))\n",
    "bias_fc1 = tf.Variable(tf.constant(1.0, shape=[128]))\n",
    "\n",
    "# Weight and biases for fully connected layer\n",
    "weight_fc2 = tf.Variable(tf.truncated_normal([128, 10], stddev=0.1))\n",
    "bias_fc2 = tf.Variable(tf.constant(1.0, shape=[10]))\n",
    "\n",
    "dropout = tf.placeholder(tf.float32)"
   ]
  },
  {
   "cell_type": "code",
   "execution_count": 17,
   "metadata": {
    "collapsed": true
   },
   "outputs": [],
   "source": [
    "def cnn_model(data):\n",
    "    # First layer: Convolution 1 \n",
    "    conv_1 = tf.nn.conv2d(data, weight_conv1, strides=[1, patch_stride, patch_stride, 1], padding='SAME')\n",
    "    \n",
    "    # Second layer: ReLu 1\n",
    "    # Output = 32x32x16 due to 16 filters being used\n",
    "    relu_1 = tf.nn.relu(conv_1 + bias_conv1)\n",
    "    \n",
    "    # Third layer: Max Pool 1 with 2x2 filter and a stride of 2\n",
    "    # Output = 16x16x16\n",
    "    maxpool_1 = tf.nn.max_pool(relu_1, ksize=[1, pool_size, pool_size, 1], strides=[1, pool_stride, pool_stride, 1], padding='SAME')\n",
    "    \n",
    "    # Fourth layer: Convolution 2\n",
    "    conv_2 = tf.nn.conv2d(maxpool_1, weight_conv2, strides=[1, patch_stride, patch_stride, 1], padding='SAME')\n",
    "    \n",
    "    # Fifth layer: ReLu 2\n",
    "    # Output = 16x16x16 due to 16 filters being used\n",
    "    relu_2 = tf.nn.relu(conv_2 + bias_conv2)\n",
    "    \n",
    "    # Sixth layer: Max Pool 2 with 2x2 filter and a stride of 2\n",
    "    # Output = 8x8x16\n",
    "    maxpool_2 = tf.nn.max_pool(relu_2, ksize=[1, pool_size, pool_size, 1], strides=[1, pool_stride, pool_stride, 1], padding='SAME')\n",
    "\n",
    "    # Reshape the output to [128, 10]\n",
    "    shape = maxpool_2.get_shape().as_list()\n",
    "    reshape = tf.reshape(maxpool_2, [-1, shape[1] * shape[2] * shape[3]])\n",
    "    \n",
    "    # Seventh layer: ReLu 3\n",
    "    relu_3 = tf.nn.relu(tf.matmul(reshape, weight_fc1) + bias_fc1)\n",
    "    \n",
    "    # Final layer: Dropout\n",
    "    dropout_layer = tf.nn.dropout(relu_3, 0.9)\n",
    "    \n",
    "    return tf.matmul(dropout_layer, weight_fc2) + bias_fc2"
   ]
  },
  {
   "cell_type": "markdown",
   "metadata": {},
   "source": [
    "# Utilize Adam/Gradient Descent optimizer"
   ]
  },
  {
   "cell_type": "code",
   "execution_count": 18,
   "metadata": {
    "collapsed": false
   },
   "outputs": [],
   "source": [
    "logits = cnn_model(tf_train_dataset)\n",
    "\n",
    "# Cross entropy loss\n",
    "loss = tf.reduce_mean(tf.nn.softmax_cross_entropy_with_logits(logits, tf_train_labels))\n",
    "\n",
    "# Adam Optimizer\n",
    "optimizer = tf.train.AdamOptimizer(0.001).minimize(loss)\n",
    "\n",
    "# Gradient Descent Optimizer\n",
    "# optimizer = tf.train.GradientDescentOptimizer(0.001).minimize(loss)"
   ]
  },
  {
   "cell_type": "code",
   "execution_count": 19,
   "metadata": {
    "collapsed": false
   },
   "outputs": [],
   "source": [
    "train_prediction = tf.nn.softmax(logits)\n",
    "test_prediction = tf.nn.softmax(cnn_model(tf_test_dataset))"
   ]
  },
  {
   "cell_type": "markdown",
   "metadata": {},
   "source": [
    "# Accuracy test"
   ]
  },
  {
   "cell_type": "code",
   "execution_count": 20,
   "metadata": {
    "collapsed": false
   },
   "outputs": [],
   "source": [
    "def accuracy(predictions, labels):\n",
    "    return (100.0 * np.sum(np.argmax(predictions, 1) == np.argmax(labels, 1)) / predictions.shape[0])"
   ]
  },
  {
   "cell_type": "code",
   "execution_count": 21,
   "metadata": {
    "collapsed": true
   },
   "outputs": [],
   "source": [
    "total_epochs = 1000\n",
    "# total_epochs = 5000\n",
    "# total_epochs = 10000\n",
    "# total_epochs = 15000\n",
    "# total_epochs = 20000"
   ]
  },
  {
   "cell_type": "code",
   "execution_count": 22,
   "metadata": {
    "collapsed": false,
    "scrolled": true
   },
   "outputs": [
    {
     "name": "stdout",
     "output_type": "stream",
     "text": [
      "Machine learning model training is in progress...\n",
      "Batch loss at epoch 0: 16.223337\n",
      "Batch train accuracy: 12.5%\n",
      "Batch loss at epoch 100: 2.357983\n",
      "Batch train accuracy: 12.5%\n",
      "Batch loss at epoch 200: 2.485690\n",
      "Batch train accuracy: 6.2%\n",
      "Batch loss at epoch 300: 2.205138\n",
      "Batch train accuracy: 12.5%\n",
      "Batch loss at epoch 400: 2.296328\n",
      "Batch train accuracy: 6.2%\n",
      "Batch loss at epoch 500: 1.923867\n",
      "Batch train accuracy: 37.5%\n",
      "Batch loss at epoch 600: 1.999557\n",
      "Batch train accuracy: 31.2%\n",
      "Batch loss at epoch 700: 2.270233\n",
      "Batch train accuracy: 6.2%\n",
      "Batch loss at epoch 800: 2.094327\n",
      "Batch train accuracy: 18.8%\n",
      "Batch loss at epoch 900: 1.675715\n",
      "Batch train accuracy: 43.8%\n",
      "Average Train Accuracy:  22.05\n",
      "Training Ended\n",
      "Batch loss at epoch 0: 1.726340\n",
      "Batch test accuracy: 31.2%\n",
      "Batch loss at epoch 100: 1.668526\n",
      "Batch test accuracy: 37.5%\n",
      "Batch loss at epoch 200: 2.007300\n",
      "Batch test accuracy: 37.5%\n",
      "Batch loss at epoch 300: 0.908446\n",
      "Batch test accuracy: 75.0%\n",
      "Batch loss at epoch 400: 0.494147\n",
      "Batch test accuracy: 75.0%\n",
      "Batch loss at epoch 500: 1.202522\n",
      "Batch test accuracy: 43.8%\n",
      "Batch loss at epoch 600: 0.838433\n",
      "Batch test accuracy: 68.8%\n",
      "Batch loss at epoch 700: 0.644395\n",
      "Batch test accuracy: 68.8%\n",
      "Batch loss at epoch 800: 0.911024\n",
      "Batch test accuracy: 68.8%\n",
      "Batch loss at epoch 900: 0.807126\n",
      "Batch test accuracy: 81.2%\n",
      "Average Test Accuracy:  58.38125\n",
      "Testing Ended\n"
     ]
    }
   ],
   "source": [
    "with tf.Session() as session:\n",
    "    tf.initialize_all_variables().run()\n",
    "    \n",
    "    print('Machine learning model training is in progress...')\n",
    "    \n",
    "    total_train_accuracy = 0\n",
    "    total_test_accuracy = 0\n",
    "    \n",
    "    # Training datasets\n",
    "    for epoch in range(total_epochs):\n",
    "        # Develop batch from the training set\n",
    "        offset = (epoch * batch) % (train_y.shape[0] - batch)\n",
    "        batch_data = train_X[offset:(offset + batch), :, :, :]\n",
    "        batch_labels = train_y[offset:(offset + batch), :]\n",
    "        \n",
    "        # Feed dictionary to TensorFlow session\n",
    "        feed_dict = {tf_train_dataset : batch_data, tf_train_labels : batch_labels, dropout: 0.9}\n",
    "        _, loss_values, predictions = session.run([optimizer, loss, train_prediction], feed_dict=feed_dict)\n",
    "        \n",
    "    \n",
    "        # Train accuracy\n",
    "        train_batch_accuracy = accuracy(predictions, batch_labels)\n",
    "        \n",
    "        if (epoch % 100 == 0):\n",
    "            print('Batch loss at epoch %d: %f' % (epoch, loss_values))\n",
    "            print('Batch train accuracy: %.1f%%' % train_batch_accuracy)\n",
    "            \n",
    "        total_train_accuracy += train_batch_accuracy\n",
    "    \n",
    "    average_train_accuracy = (total_train_accuracy / total_epochs)\n",
    "    print 'Average Train Accuracy: ', average_train_accuracy\n",
    "    print 'Training Ended'\n",
    "    \n",
    "    # Test datasets\n",
    "    for epoch in range(total_epochs):\n",
    "        # Develop batch from the test set\n",
    "        offset = (epoch * batch) % (test_y.shape[0] - batch)\n",
    "        batch_data = test_X[offset:(offset + batch), :, :, :]\n",
    "        batch_labels = test_y[offset:(offset + batch), :]\n",
    "        \n",
    "        # Feed dictionary to TensorFlow session\n",
    "        feed_dict = {tf_train_dataset : batch_data, tf_train_labels : batch_labels, dropout: 0.9}\n",
    "        _, loss_values, predictions = session.run([optimizer, loss, train_prediction], feed_dict=feed_dict)\n",
    "        \n",
    "        # Test accuracy\n",
    "        test_batch_accuracy = accuracy(predictions, batch_labels)\n",
    "        \n",
    "        if (epoch % 100 == 0):\n",
    "            print('Batch loss at epoch %d: %f' % (epoch, loss_values))\n",
    "            print('Batch test accuracy: %.1f%%' % test_batch_accuracy)\n",
    "            \n",
    "        total_test_accuracy  += test_batch_accuracy\n",
    "        \n",
    "    average_test_accuracy = (total_test_accuracy / total_epochs)\n",
    "    print 'Average Test Accuracy: ', average_test_accuracy\n",
    "    print 'Testing Ended'"
   ]
  }
 ],
 "metadata": {
  "anaconda-cloud": {},
  "kernelspec": {
   "display_name": "Python [conda env:tensorflow]",
   "language": "python",
   "name": "conda-env-tensorflow-py"
  },
  "language_info": {
   "codemirror_mode": {
    "name": "ipython",
    "version": 2
   },
   "file_extension": ".py",
   "mimetype": "text/x-python",
   "name": "python",
   "nbconvert_exporter": "python",
   "pygments_lexer": "ipython2",
   "version": "2.7.12"
  }
 },
 "nbformat": 4,
 "nbformat_minor": 1
}
