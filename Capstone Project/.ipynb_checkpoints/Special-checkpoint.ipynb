{
 "cells": [
  {
   "cell_type": "markdown",
   "metadata": {},
   "source": [
    "# Part 1:"
   ]
  },
  {
   "cell_type": "code",
   "execution_count": 2,
   "metadata": {
    "collapsed": true
   },
   "outputs": [],
   "source": [
    "from tensorflow.examples.tutorials.mnist import input_data"
   ]
  },
  {
   "cell_type": "code",
   "execution_count": 3,
   "metadata": {
    "collapsed": false
   },
   "outputs": [
    {
     "name": "stdout",
     "output_type": "stream",
     "text": [
      "Extracting /Users/firdause/Downloads/Special/MNIST_data/train-images-idx3-ubyte.gz\n",
      "Extracting /Users/firdause/Downloads/Special/MNIST_data/train-labels-idx1-ubyte.gz\n",
      "Extracting /Users/firdause/Downloads/Special/MNIST_data/t10k-images-idx3-ubyte.gz\n",
      "Extracting /Users/firdause/Downloads/Special/MNIST_data/t10k-labels-idx1-ubyte.gz\n"
     ]
    }
   ],
   "source": [
    "mnist_data = input_data.read_data_sets('/Users/firdause/Downloads/Special/MNIST_data', one_hot=True)"
   ]
  },
  {
   "cell_type": "code",
   "execution_count": 4,
   "metadata": {
    "collapsed": true
   },
   "outputs": [],
   "source": [
    "X_train = mnist_data.train.images\n",
    "y_train = mnist_data.train.labels"
   ]
  },
  {
   "cell_type": "code",
   "execution_count": 5,
   "metadata": {
    "collapsed": true
   },
   "outputs": [],
   "source": [
    "X_test = mnist_data.test.images\n",
    "y_test = mnist_data.test.labels"
   ]
  },
  {
   "cell_type": "code",
   "execution_count": 6,
   "metadata": {
    "collapsed": true
   },
   "outputs": [],
   "source": [
    "# Get the next 64 images array and labels\n",
    "batch_X, batch_Y = mnist_data.train.next_batch(64)"
   ]
  },
  {
   "cell_type": "code",
   "execution_count": 7,
   "metadata": {
    "collapsed": true
   },
   "outputs": [],
   "source": [
    "greetings = tf.constant('Hey people!')"
   ]
  },
  {
   "cell_type": "code",
   "execution_count": 8,
   "metadata": {
    "collapsed": true
   },
   "outputs": [],
   "source": [
    "sess = tf.Session()"
   ]
  },
  {
   "cell_type": "code",
   "execution_count": 9,
   "metadata": {
    "collapsed": false
   },
   "outputs": [
    {
     "name": "stdout",
     "output_type": "stream",
     "text": [
      "Hey people!\n"
     ]
    }
   ],
   "source": [
    "print sess.run(greetings)"
   ]
  },
  {
   "cell_type": "markdown",
   "metadata": {},
   "source": [
    "# Part 2: "
   ]
  },
  {
   "cell_type": "code",
   "execution_count": 10,
   "metadata": {
    "collapsed": true
   },
   "outputs": [],
   "source": [
    "# Basic constant operations\n",
    "# The value returned by the constructor represents the output\n",
    "# of the Constant op.\n",
    "a = tf.constant(2)\n",
    "b = tf.constant(3)"
   ]
  },
  {
   "cell_type": "code",
   "execution_count": 11,
   "metadata": {
    "collapsed": false
   },
   "outputs": [
    {
     "name": "stdout",
     "output_type": "stream",
     "text": [
      "a=2, b=3\n",
      "Addition with constants: 5\n",
      "Multiplication with constants: 6\n"
     ]
    }
   ],
   "source": [
    "# Launch the default graph.\n",
    "with tf.Session() as sess:\n",
    "    print \"a=2, b=3\"\n",
    "    print \"Addition with constants: %i\" % sess.run(a+b)\n",
    "    print \"Multiplication with constants: %i\" % sess.run(a*b)"
   ]
  },
  {
   "cell_type": "code",
   "execution_count": 12,
   "metadata": {
    "collapsed": true
   },
   "outputs": [],
   "source": [
    "# Basic Operations with variable as graph input\n",
    "# The value returned by the constructor represents the output\n",
    "# of the Variable op. (define as input when running session)\n",
    "# tf Graph input\n",
    "a = tf.placeholder(tf.int16)\n",
    "b = tf.placeholder(tf.int16)"
   ]
  },
  {
   "cell_type": "code",
   "execution_count": 14,
   "metadata": {
    "collapsed": true
   },
   "outputs": [],
   "source": [
    "# Define some operations\n",
    "addition_ops = tf.add(a, b)\n",
    "multiplication_ops = tf.mul(a, b)"
   ]
  },
  {
   "cell_type": "code",
   "execution_count": 15,
   "metadata": {
    "collapsed": false
   },
   "outputs": [
    {
     "name": "stdout",
     "output_type": "stream",
     "text": [
      "Addition with variables: 5\n",
      "Multiplication with variables: 6\n"
     ]
    }
   ],
   "source": [
    "# Launch the default graph.\n",
    "with tf.Session() as sess:\n",
    "    # Run every operation with variable input\n",
    "    print \"Addition with variables: %i\" % sess.run(addition_ops, feed_dict={a: 2, b: 3})\n",
    "    print \"Multiplication with variables: %i\" % sess.run(multiplication_ops, feed_dict={a: 2, b: 3})"
   ]
  },
  {
   "cell_type": "code",
   "execution_count": 16,
   "metadata": {
    "collapsed": true
   },
   "outputs": [],
   "source": [
    "# ----------------\n",
    "# More in details:\n",
    "# Matrix Multiplication from TensorFlow official tutorial\n",
    "\n",
    "# Create a Constant op that produces a 1x2 matrix.  The op is\n",
    "# added as a node to the default graph.\n",
    "#\n",
    "# The value returned by the constructor represents the output\n",
    "# of the Constant op.\n",
    "matrix1 = tf.constant([[3., 3.]])"
   ]
  },
  {
   "cell_type": "code",
   "execution_count": 17,
   "metadata": {
    "collapsed": true
   },
   "outputs": [],
   "source": [
    "# Create another Constant that produces a 2x1 matrix.\n",
    "matrix2 = tf.constant([[2.],[2.]])"
   ]
  },
  {
   "cell_type": "code",
   "execution_count": 18,
   "metadata": {
    "collapsed": true
   },
   "outputs": [],
   "source": [
    "# Create a Matmul op that takes 'matrix1' and 'matrix2' as inputs.\n",
    "# The returned value, 'product', represents the result of the matrix\n",
    "# multiplication.\n",
    "product = tf.matmul(matrix1, matrix2)"
   ]
  },
  {
   "cell_type": "code",
   "execution_count": 20,
   "metadata": {
    "collapsed": false
   },
   "outputs": [
    {
     "name": "stdout",
     "output_type": "stream",
     "text": [
      "[[ 12.]]\n"
     ]
    }
   ],
   "source": [
    "# To run the matmul op we call the session 'run()' method, passing 'product'\n",
    "# which represents the output of the matmul op.  This indicates to the call\n",
    "# that we want to get the output of the matmul op back.\n",
    "#\n",
    "# All inputs needed by the op are run automatically by the session.  They\n",
    "# typically are run in parallel.\n",
    "#\n",
    "# The call 'run(product)' thus causes the execution of threes ops in the\n",
    "# graph: the two constants and matmul.\n",
    "#\n",
    "# The output of the op is returned in 'result' as a numpy `ndarray` object.\n",
    "with tf.Session() as sess:\n",
    "    result = sess.run(product)\n",
    "    print result"
   ]
  },
  {
   "cell_type": "markdown",
   "metadata": {},
   "source": [
    "# Part 3: KNN"
   ]
  },
  {
   "cell_type": "code",
   "execution_count": 22,
   "metadata": {
    "collapsed": true
   },
   "outputs": [],
   "source": [
    "import tensorflow as tf\n",
    "import numpy as np\n",
    "\n",
    "from tensorflow.examples.tutorials.mnist import input_data"
   ]
  },
  {
   "cell_type": "code",
   "execution_count": 24,
   "metadata": {
    "collapsed": false
   },
   "outputs": [
    {
     "name": "stdout",
     "output_type": "stream",
     "text": [
      "Extracting /Users/firdause/Downloads/Special/MNIST_data/train-images-idx3-ubyte.gz\n",
      "Extracting /Users/firdause/Downloads/Special/MNIST_data/train-labels-idx1-ubyte.gz\n",
      "Extracting /Users/firdause/Downloads/Special/MNIST_data/t10k-images-idx3-ubyte.gz\n",
      "Extracting /Users/firdause/Downloads/Special/MNIST_data/t10k-labels-idx1-ubyte.gz\n"
     ]
    }
   ],
   "source": [
    "mnist = input_data.read_data_sets('/Users/firdause/Downloads/Special/MNIST_data', one_hot=True)"
   ]
  },
  {
   "cell_type": "code",
   "execution_count": 30,
   "metadata": {
    "collapsed": true
   },
   "outputs": [],
   "source": [
    "# In this example, we limit mnist data\n",
    "X_train, y_train = mnist.train.next_batch(5000) #5000 for training (nn candidates)\n",
    "X_test, y_test = mnist.test.next_batch(100) #1000 for testing"
   ]
  },
  {
   "cell_type": "code",
   "execution_count": 31,
   "metadata": {
    "collapsed": true
   },
   "outputs": [],
   "source": [
    "# tf Graph Input\n",
    "xtr = tf.placeholder(\"float\", [None, 784])\n",
    "xte = tf.placeholder(\"float\", [784])"
   ]
  },
  {
   "cell_type": "code",
   "execution_count": 32,
   "metadata": {
    "collapsed": true
   },
   "outputs": [],
   "source": [
    "# Nearest Neighbor calculation using L1 Distance\n",
    "# Calculate L1 Distance\n",
    "distance = tf.reduce_sum(tf.abs(tf.add(xtr, tf.neg(xte))), reduction_indices=1)"
   ]
  },
  {
   "cell_type": "code",
   "execution_count": 33,
   "metadata": {
    "collapsed": true
   },
   "outputs": [],
   "source": [
    "# Prediction: Get min distance index (Nearest neighbor)\n",
    "pred = tf.arg_min(distance, 0)"
   ]
  },
  {
   "cell_type": "code",
   "execution_count": 34,
   "metadata": {
    "collapsed": true
   },
   "outputs": [],
   "source": [
    "accuracy = 0.\n",
    "\n",
    "# Initializing the variables\n",
    "init = tf.initialize_all_variables()"
   ]
  },
  {
   "cell_type": "code",
   "execution_count": 35,
   "metadata": {
    "collapsed": false
   },
   "outputs": [
    {
     "name": "stdout",
     "output_type": "stream",
     "text": [
      "Test 0 Prediction: 9 True Class: 9\n",
      "Test 1 Prediction: 0 True Class: 0\n",
      "Test 2 Prediction: 3 True Class: 2\n",
      "Test 3 Prediction: 5 True Class: 5\n",
      "Test 4 Prediction: 1 True Class: 1\n",
      "Test 5 Prediction: 9 True Class: 9\n",
      "Test 6 Prediction: 7 True Class: 7\n",
      "Test 7 Prediction: 8 True Class: 8\n",
      "Test 8 Prediction: 1 True Class: 1\n",
      "Test 9 Prediction: 0 True Class: 0\n",
      "Test 10 Prediction: 4 True Class: 4\n",
      "Test 11 Prediction: 1 True Class: 1\n",
      "Test 12 Prediction: 7 True Class: 7\n",
      "Test 13 Prediction: 9 True Class: 9\n",
      "Test 14 Prediction: 2 True Class: 6\n",
      "Test 15 Prediction: 4 True Class: 4\n",
      "Test 16 Prediction: 2 True Class: 2\n",
      "Test 17 Prediction: 6 True Class: 6\n",
      "Test 18 Prediction: 8 True Class: 8\n",
      "Test 19 Prediction: 1 True Class: 1\n",
      "Test 20 Prediction: 3 True Class: 3\n",
      "Test 21 Prediction: 7 True Class: 7\n",
      "Test 22 Prediction: 5 True Class: 5\n",
      "Test 23 Prediction: 4 True Class: 4\n",
      "Test 24 Prediction: 4 True Class: 4\n",
      "Test 25 Prediction: 1 True Class: 1\n",
      "Test 26 Prediction: 8 True Class: 8\n",
      "Test 27 Prediction: 1 True Class: 1\n",
      "Test 28 Prediction: 3 True Class: 3\n",
      "Test 29 Prediction: 8 True Class: 8\n",
      "Test 30 Prediction: 1 True Class: 1\n",
      "Test 31 Prediction: 2 True Class: 2\n",
      "Test 32 Prediction: 4 True Class: 5\n",
      "Test 33 Prediction: 8 True Class: 8\n",
      "Test 34 Prediction: 0 True Class: 0\n",
      "Test 35 Prediction: 6 True Class: 6\n",
      "Test 36 Prediction: 2 True Class: 2\n",
      "Test 37 Prediction: 1 True Class: 1\n",
      "Test 38 Prediction: 1 True Class: 1\n",
      "Test 39 Prediction: 1 True Class: 7\n",
      "Test 40 Prediction: 1 True Class: 1\n",
      "Test 41 Prediction: 5 True Class: 5\n",
      "Test 42 Prediction: 3 True Class: 3\n",
      "Test 43 Prediction: 4 True Class: 4\n",
      "Test 44 Prediction: 6 True Class: 6\n",
      "Test 45 Prediction: 9 True Class: 9\n",
      "Test 46 Prediction: 5 True Class: 5\n",
      "Test 47 Prediction: 0 True Class: 0\n",
      "Test 48 Prediction: 9 True Class: 9\n",
      "Test 49 Prediction: 2 True Class: 2\n",
      "Test 50 Prediction: 3 True Class: 2\n",
      "Test 51 Prediction: 4 True Class: 4\n",
      "Test 52 Prediction: 8 True Class: 8\n",
      "Test 53 Prediction: 2 True Class: 2\n",
      "Test 54 Prediction: 1 True Class: 1\n",
      "Test 55 Prediction: 7 True Class: 7\n",
      "Test 56 Prediction: 2 True Class: 2\n",
      "Test 57 Prediction: 4 True Class: 4\n",
      "Test 58 Prediction: 9 True Class: 9\n",
      "Test 59 Prediction: 4 True Class: 4\n",
      "Test 60 Prediction: 4 True Class: 4\n",
      "Test 61 Prediction: 0 True Class: 0\n",
      "Test 62 Prediction: 3 True Class: 3\n",
      "Test 63 Prediction: 9 True Class: 9\n",
      "Test 64 Prediction: 2 True Class: 2\n",
      "Test 65 Prediction: 2 True Class: 2\n",
      "Test 66 Prediction: 3 True Class: 3\n",
      "Test 67 Prediction: 3 True Class: 3\n",
      "Test 68 Prediction: 4 True Class: 8\n",
      "Test 69 Prediction: 3 True Class: 3\n",
      "Test 70 Prediction: 5 True Class: 5\n",
      "Test 71 Prediction: 7 True Class: 7\n",
      "Test 72 Prediction: 3 True Class: 3\n",
      "Test 73 Prediction: 5 True Class: 5\n",
      "Test 74 Prediction: 8 True Class: 8\n",
      "Test 75 Prediction: 1 True Class: 1\n",
      "Test 76 Prediction: 2 True Class: 2\n",
      "Test 77 Prediction: 9 True Class: 4\n",
      "Test 78 Prediction: 4 True Class: 4\n",
      "Test 79 Prediction: 6 True Class: 6\n",
      "Test 80 Prediction: 4 True Class: 4\n",
      "Test 81 Prediction: 9 True Class: 9\n",
      "Test 82 Prediction: 3 True Class: 5\n",
      "Test 83 Prediction: 1 True Class: 1\n",
      "Test 84 Prediction: 0 True Class: 0\n",
      "Test 85 Prediction: 6 True Class: 6\n",
      "Test 86 Prediction: 9 True Class: 9\n",
      "Test 87 Prediction: 5 True Class: 5\n",
      "Test 88 Prediction: 9 True Class: 9\n",
      "Test 89 Prediction: 5 True Class: 5\n",
      "Test 90 Prediction: 9 True Class: 9\n",
      "Test 91 Prediction: 7 True Class: 7\n",
      "Test 92 Prediction: 3 True Class: 3\n",
      "Test 93 Prediction: 8 True Class: 8\n",
      "Test 94 Prediction: 0 True Class: 0\n",
      "Test 95 Prediction: 3 True Class: 3\n",
      "Test 96 Prediction: 4 True Class: 7\n",
      "Test 97 Prediction: 1 True Class: 1\n",
      "Test 98 Prediction: 3 True Class: 3\n",
      "Test 99 Prediction: 6 True Class: 6\n",
      "Done!\n",
      "Accuracy: 0.91\n"
     ]
    }
   ],
   "source": [
    "# Launch the graph\n",
    "with tf.Session() as sess:\n",
    "    sess.run(init)\n",
    "\n",
    "    # loop over test data\n",
    "    for i in range(len(X_test)):\n",
    "        # Get nearest neighbor\n",
    "        nn_index = sess.run(pred, feed_dict={xtr: X_train, xte: X_test[i, :]})\n",
    "        # Get nearest neighbor class label and compare it to its true label\n",
    "        print 'Test', i, 'Prediction:', np.argmax(y_train[nn_index]), 'True Class:', np.argmax(y_test[i])\n",
    "        # Calculate accuracy\n",
    "        if np.argmax(y_train[nn_index]) == np.argmax(y_test[i]):\n",
    "            accuracy += 1./len(X_test)\n",
    "            \n",
    "    print \"Done!\"\n",
    "    print \"Accuracy:\", accuracy"
   ]
  },
  {
   "cell_type": "markdown",
   "metadata": {},
   "source": [
    "# Part 4: Linear Regression"
   ]
  },
  {
   "cell_type": "code",
   "execution_count": 36,
   "metadata": {
    "collapsed": true
   },
   "outputs": [],
   "source": [
    "import tensorflow as tf\n",
    "import numpy\n",
    "import matplotlib.pyplot as plt\n",
    "rng = numpy.random"
   ]
  },
  {
   "cell_type": "code",
   "execution_count": 37,
   "metadata": {
    "collapsed": true
   },
   "outputs": [],
   "source": [
    "# Parameters\n",
    "learning_rate = 0.01\n",
    "training_epochs = 1000\n",
    "display_step = 50"
   ]
  },
  {
   "cell_type": "code",
   "execution_count": 38,
   "metadata": {
    "collapsed": true
   },
   "outputs": [],
   "source": [
    "# Training Data\n",
    "train_X = numpy.asarray([3.3, 4.4, 5.5, 6.71, 6.93, 4.168, 9.779, 6.182, 7.59, 2.167, 7.042, 10.791, 5.313, 7.997, 5.654, 9.27, 3.1])\n",
    "train_Y = numpy.asarray([1.7, 2.76, 2.09, 3.19, 1.694, 1.573, 3.366, 2.596, 2.53, 1.221, 2.827, 3.465, 1.65, 2.904, 2.42, 2.94, 1.3])\n",
    "n_samples = train_X.shape[0]"
   ]
  },
  {
   "cell_type": "code",
   "execution_count": 39,
   "metadata": {
    "collapsed": true
   },
   "outputs": [],
   "source": [
    "# tf Graph Input\n",
    "X = tf.placeholder(\"float\")\n",
    "Y = tf.placeholder(\"float\")"
   ]
  },
  {
   "cell_type": "code",
   "execution_count": 40,
   "metadata": {
    "collapsed": true
   },
   "outputs": [],
   "source": [
    "# Set model weights\n",
    "W = tf.Variable(rng.randn(), name=\"weight\")\n",
    "b = tf.Variable(rng.randn(), name=\"bias\")"
   ]
  },
  {
   "cell_type": "code",
   "execution_count": 41,
   "metadata": {
    "collapsed": true
   },
   "outputs": [],
   "source": [
    "# Construct a linear model\n",
    "pred = tf.add(tf.mul(X, W), b)"
   ]
  },
  {
   "cell_type": "code",
   "execution_count": 42,
   "metadata": {
    "collapsed": true
   },
   "outputs": [],
   "source": [
    "# Mean squared error\n",
    "cost = tf.reduce_sum(tf.pow(pred-Y, 2))/(2*n_samples)\n",
    "\n",
    "# Gradient descent\n",
    "optimizer = tf.train.GradientDescentOptimizer(learning_rate).minimize(cost)"
   ]
  },
  {
   "cell_type": "code",
   "execution_count": 43,
   "metadata": {
    "collapsed": true
   },
   "outputs": [],
   "source": [
    "# Initializing the variables\n",
    "init = tf.initialize_all_variables()"
   ]
  },
  {
   "cell_type": "code",
   "execution_count": 44,
   "metadata": {
    "collapsed": false
   },
   "outputs": [
    {
     "name": "stdout",
     "output_type": "stream",
     "text": [
      "Epoch: 0050 cost= 0.098212801 W= 0.331181 b= 0.214529\n",
      "Epoch: 0100 cost= 0.095756695 W= 0.326329 b= 0.249437\n",
      "Epoch: 0150 cost= 0.093584463 W= 0.321765 b= 0.282269\n",
      "Epoch: 0200 cost= 0.091663279 W= 0.317473 b= 0.313149\n",
      "Epoch: 0250 cost= 0.089964248 W= 0.313436 b= 0.342191\n",
      "Epoch: 0300 cost= 0.088461623 W= 0.309639 b= 0.369506\n",
      "Epoch: 0350 cost= 0.087132692 W= 0.306067 b= 0.395198\n",
      "Epoch: 0400 cost= 0.085957520 W= 0.302709 b= 0.41936\n",
      "Epoch: 0450 cost= 0.084918208 W= 0.29955 b= 0.442085\n",
      "Epoch: 0500 cost= 0.083999105 W= 0.296579 b= 0.46346\n",
      "Epoch: 0550 cost= 0.083186299 W= 0.293784 b= 0.483563\n",
      "Epoch: 0600 cost= 0.082467586 W= 0.291156 b= 0.50247\n",
      "Epoch: 0650 cost= 0.081832021 W= 0.288684 b= 0.520253\n",
      "Epoch: 0700 cost= 0.081270039 W= 0.286359 b= 0.536978\n",
      "Epoch: 0750 cost= 0.080773070 W= 0.284172 b= 0.552708\n",
      "Epoch: 0800 cost= 0.080333658 W= 0.282116 b= 0.567504\n",
      "Epoch: 0850 cost= 0.079945110 W= 0.280182 b= 0.581419\n",
      "Epoch: 0900 cost= 0.079601564 W= 0.278362 b= 0.594507\n",
      "Epoch: 0950 cost= 0.079297811 W= 0.276651 b= 0.606818\n",
      "Epoch: 1000 cost= 0.079029292 W= 0.275042 b= 0.618394\n",
      "Optimization Finished!\n",
      "Training cost= 0.0790293 W= 0.275042 b= 0.618394 \n",
      "\n"
     ]
    },
    {
     "data": {
      "image/png": "[encoded data removed]",
      "text/plain": [
       "<matplotlib.figure.Figure at 0x10504a110>"
      ]
     },
     "metadata": {},
     "output_type": "display_data"
    }
   ],
   "source": [
    "with tf.Session() as sess:\n",
    "    sess.run(init)\n",
    "    \n",
    "    # Fit all training data\n",
    "    for epoch in range(training_epochs):\n",
    "        for (x, y) in zip(train_X, train_Y):\n",
    "            sess.run(optimizer, feed_dict={X: x, Y: y})\n",
    "            \n",
    "        #Display logs per epoch step\n",
    "        if (epoch+1) % display_step == 0:\n",
    "            c = sess.run(cost, feed_dict={X: train_X, Y:train_Y})\n",
    "            print 'Epoch:', '%04d' % (epoch+1), 'cost=', '{:.9f}'.format(c), 'W=', sess.run(W), 'b=', sess.run(b)\n",
    "            \n",
    "    print \"Optimization Finished!\"\n",
    "    training_cost = sess.run(cost, feed_dict={X: train_X, Y: train_Y})\n",
    "    print \"Training cost=\", training_cost, \"W=\", sess.run(W), \"b=\", sess.run(b), '\\n'\n",
    "    \n",
    "    \n",
    "    #Graphic display\n",
    "    plt.plot(train_X, train_Y, 'ro', label='Original data')\n",
    "    plt.plot(train_X, sess.run(W) * train_X + sess.run(b), label='Fitted line')\n",
    "    plt.legend()\n",
    "    plt.show()"
   ]
  },
  {
   "cell_type": "markdown",
   "metadata": {},
   "source": [
    "# Part 5: Logistic Regression"
   ]
  },
  {
   "cell_type": "code",
   "execution_count": 45,
   "metadata": {
    "collapsed": true
   },
   "outputs": [],
   "source": [
    "from tensorflow.examples.tutorials.mnist import input_data"
   ]
  },
  {
   "cell_type": "code",
   "execution_count": 46,
   "metadata": {
    "collapsed": false
   },
   "outputs": [
    {
     "name": "stdout",
     "output_type": "stream",
     "text": [
      "Extracting /Users/firdause/Downloads/Special/MNIST_data/train-images-idx3-ubyte.gz\n",
      "Extracting /Users/firdause/Downloads/Special/MNIST_data/train-labels-idx1-ubyte.gz\n",
      "Extracting /Users/firdause/Downloads/Special/MNIST_data/t10k-images-idx3-ubyte.gz\n",
      "Extracting /Users/firdause/Downloads/Special/MNIST_data/t10k-labels-idx1-ubyte.gz\n"
     ]
    }
   ],
   "source": [
    "mnist = input_data.read_data_sets('/Users/firdause/Downloads/Special/MNIST_data', one_hot=True)"
   ]
  },
  {
   "cell_type": "code",
   "execution_count": 47,
   "metadata": {
    "collapsed": true
   },
   "outputs": [],
   "source": [
    "# Parameters\n",
    "learning_rate = 0.01\n",
    "training_epochs = 25\n",
    "batch_size = 100\n",
    "display_step = 1\n",
    "\n",
    "# tf Graph Input\n",
    "x = tf.placeholder(tf.float32, [None, 784]) # mnist data image of shape 28*28=784\n",
    "y = tf.placeholder(tf.float32, [None, 10]) # 0-9 digits recognition => 10 classes\n",
    "\n",
    "# Set model weights\n",
    "W = tf.Variable(tf.zeros([784, 10]))\n",
    "b = tf.Variable(tf.zeros([10]))\n",
    "\n",
    "# Construct model\n",
    "pred = tf.nn.softmax(tf.matmul(x, W) + b) # Softmax\n",
    "\n",
    "# Minimize error using cross entropy\n",
    "cost = tf.reduce_mean(-tf.reduce_sum(y*tf.log(pred), reduction_indices=1))\n",
    "# Gradient Descent\n",
    "optimizer = tf.train.GradientDescentOptimizer(learning_rate).minimize(cost)\n",
    "\n",
    "# Initializing the variables\n",
    "init = tf.initialize_all_variables()"
   ]
  },
  {
   "cell_type": "code",
   "execution_count": 48,
   "metadata": {
    "collapsed": false
   },
   "outputs": [
    {
     "name": "stdout",
     "output_type": "stream",
     "text": [
      "Epoch: 0001 cost= 1.182138980\n",
      "Epoch: 0002 cost= 0.664748238\n",
      "Epoch: 0003 cost= 0.552650713\n",
      "Epoch: 0004 cost= 0.498593372\n",
      "Epoch: 0005 cost= 0.465485760\n",
      "Epoch: 0006 cost= 0.442463916\n",
      "Epoch: 0007 cost= 0.425566151\n",
      "Epoch: 0008 cost= 0.412155169\n",
      "Epoch: 0009 cost= 0.401349639\n",
      "Epoch: 0010 cost= 0.392361337\n",
      "Epoch: 0011 cost= 0.384718975\n",
      "Epoch: 0012 cost= 0.378173611\n",
      "Epoch: 0013 cost= 0.372397706\n",
      "Epoch: 0014 cost= 0.367291180\n",
      "Epoch: 0015 cost= 0.362717236\n",
      "Epoch: 0016 cost= 0.358618587\n",
      "Epoch: 0017 cost= 0.354868329\n",
      "Epoch: 0018 cost= 0.351401907\n",
      "Epoch: 0019 cost= 0.348290493\n",
      "Epoch: 0020 cost= 0.345436420\n",
      "Epoch: 0021 cost= 0.342688507\n",
      "Epoch: 0022 cost= 0.340233569\n",
      "Epoch: 0023 cost= 0.337940860\n",
      "Epoch: 0024 cost= 0.335738704\n",
      "Epoch: 0025 cost= 0.333623322\n",
      "Optimization Finished!\n",
      "Accuracy: 0.888667\n"
     ]
    }
   ],
   "source": [
    "# Launch the graph\n",
    "with tf.Session() as sess:\n",
    "    sess.run(init)\n",
    "\n",
    "    # Training cycle\n",
    "    for epoch in range(training_epochs):\n",
    "        avg_cost = 0.\n",
    "        total_batch = int(mnist.train.num_examples/batch_size)\n",
    "        # Loop over all batches\n",
    "        for i in range(total_batch):\n",
    "            batch_xs, batch_ys = mnist.train.next_batch(batch_size)\n",
    "            # Fit training using batch data\n",
    "            _, c = sess.run([optimizer, cost], feed_dict={x: batch_xs,\n",
    "                                                          y: batch_ys})\n",
    "            # Compute average loss\n",
    "            avg_cost += c / total_batch\n",
    "        # Display logs per epoch step\n",
    "        if (epoch+1) % display_step == 0:\n",
    "            print \"Epoch:\", '%04d' % (epoch+1), \"cost=\", \"{:.9f}\".format(avg_cost)\n",
    "\n",
    "    print \"Optimization Finished!\"\n",
    "\n",
    "    # Test model\n",
    "    correct_prediction = tf.equal(tf.argmax(pred, 1), tf.argmax(y, 1))\n",
    "    # Calculate accuracy for 3000 examples\n",
    "    accuracy = tf.reduce_mean(tf.cast(correct_prediction, tf.float32))\n",
    "    print \"Accuracy:\", accuracy.eval({x: mnist.test.images[:3000], y: mnist.test.labels[:3000]})"
   ]
  },
  {
   "cell_type": "markdown",
   "metadata": {},
   "source": [
    "# Part 6: Multilayer Perceptron"
   ]
  },
  {
   "cell_type": "code",
   "execution_count": 49,
   "metadata": {
    "collapsed": true
   },
   "outputs": [],
   "source": [
    "from tensorflow.examples.tutorials.mnist import input_data\n",
    "import tensorflow as tf"
   ]
  },
  {
   "cell_type": "code",
   "execution_count": 50,
   "metadata": {
    "collapsed": false
   },
   "outputs": [
    {
     "name": "stdout",
     "output_type": "stream",
     "text": [
      "Extracting /Users/firdause/Downloads/Special/MNIST_data/train-images-idx3-ubyte.gz\n",
      "Extracting /Users/firdause/Downloads/Special/MNIST_data/train-labels-idx1-ubyte.gz\n",
      "Extracting /Users/firdause/Downloads/Special/MNIST_data/t10k-images-idx3-ubyte.gz\n",
      "Extracting /Users/firdause/Downloads/Special/MNIST_data/t10k-labels-idx1-ubyte.gz\n"
     ]
    }
   ],
   "source": [
    "mnist = input_data.read_data_sets('/Users/firdause/Downloads/Special/MNIST_data', one_hot=True)"
   ]
  },
  {
   "cell_type": "code",
   "execution_count": 55,
   "metadata": {
    "collapsed": true
   },
   "outputs": [],
   "source": [
    "# Parameters\n",
    "learning_rate = 0.001\n",
    "training_epochs = 100\n",
    "batch_size = 100\n",
    "display_step = 1\n",
    "\n",
    "# Network Parameters\n",
    "n_hidden_1 = 256 # 1st layer number of features\n",
    "n_hidden_2 = 256 # 2nd layer number of features\n",
    "n_input = 784 # MNIST data input (img shape: 28*28)\n",
    "n_classes = 10 # MNIST total classes (0-9 digits)\n",
    "\n",
    "# tf Graph input\n",
    "x = tf.placeholder(\"float\", [None, n_input])\n",
    "y = tf.placeholder(\"float\", [None, n_classes])"
   ]
  },
  {
   "cell_type": "code",
   "execution_count": 56,
   "metadata": {
    "collapsed": true
   },
   "outputs": [],
   "source": [
    "# Create model\n",
    "def multilayer_perceptron(x, weights, biases):\n",
    "    # Hidden layer with RELU activation\n",
    "    layer_1 = tf.add(tf.matmul(x, weights['h1']), biases['b1'])\n",
    "    layer_1 = tf.nn.relu(layer_1)\n",
    "    # Hidden layer with RELU activation\n",
    "    layer_2 = tf.add(tf.matmul(layer_1, weights['h2']), biases['b2'])\n",
    "    layer_2 = tf.nn.relu(layer_2)\n",
    "    # Output layer with linear activation\n",
    "    out_layer = tf.matmul(layer_2, weights['out']) + biases['out']\n",
    "    return out_layer"
   ]
  },
  {
   "cell_type": "code",
   "execution_count": 57,
   "metadata": {
    "collapsed": true
   },
   "outputs": [],
   "source": [
    "# Store layers weight & bias\n",
    "weights = {\n",
    "    'h1': tf.Variable(tf.random_normal([n_input, n_hidden_1])),\n",
    "    'h2': tf.Variable(tf.random_normal([n_hidden_1, n_hidden_2])),\n",
    "    'out': tf.Variable(tf.random_normal([n_hidden_2, n_classes]))\n",
    "}\n",
    "biases = {\n",
    "    'b1': tf.Variable(tf.random_normal([n_hidden_1])),\n",
    "    'b2': tf.Variable(tf.random_normal([n_hidden_2])),\n",
    "    'out': tf.Variable(tf.random_normal([n_classes]))\n",
    "}\n",
    "\n",
    "# Construct model\n",
    "pred = multilayer_perceptron(x, weights, biases)\n",
    "\n",
    "# Define loss and optimizer\n",
    "cost = tf.reduce_mean(tf.nn.softmax_cross_entropy_with_logits(pred, y))\n",
    "optimizer = tf.train.AdamOptimizer(learning_rate=learning_rate).minimize(cost)\n",
    "\n",
    "# Initializing the variables\n",
    "init = tf.initialize_all_variables()"
   ]
  },
  {
   "cell_type": "code",
   "execution_count": 58,
   "metadata": {
    "collapsed": false
   },
   "outputs": [
    {
     "name": "stdout",
     "output_type": "stream",
     "text": [
      "Epoch: 0001 cost= 156.542353727\n",
      "Epoch: 0002 cost= 40.132511560\n",
      "Epoch: 0003 cost= 25.242863284\n",
      "Epoch: 0004 cost= 17.411551378\n",
      "Epoch: 0005 cost= 12.417694036\n",
      "Epoch: 0006 cost= 9.269824356\n",
      "Epoch: 0007 cost= 6.881440638\n",
      "Epoch: 0008 cost= 5.130062710\n",
      "Epoch: 0009 cost= 3.773871822\n",
      "Epoch: 0010 cost= 2.883989847\n",
      "Epoch: 0011 cost= 2.102231810\n",
      "Epoch: 0012 cost= 1.541434126\n",
      "Epoch: 0013 cost= 1.204768012\n",
      "Epoch: 0014 cost= 0.959595424\n",
      "Epoch: 0015 cost= 0.841861494\n",
      "Epoch: 0016 cost= 0.703358863\n",
      "Epoch: 0017 cost= 0.546156618\n",
      "Epoch: 0018 cost= 0.507498001\n",
      "Epoch: 0019 cost= 0.457615834\n",
      "Epoch: 0020 cost= 0.360885320\n",
      "Epoch: 0021 cost= 0.383696878\n",
      "Epoch: 0022 cost= 0.287874705\n",
      "Epoch: 0023 cost= 0.304861618\n",
      "Epoch: 0024 cost= 0.346580610\n",
      "Epoch: 0025 cost= 0.302558155\n",
      "Epoch: 0026 cost= 0.337058896\n",
      "Epoch: 0027 cost= 0.253081449\n",
      "Epoch: 0028 cost= 0.342187149\n",
      "Epoch: 0029 cost= 0.219832295\n",
      "Epoch: 0030 cost= 0.223422835\n",
      "Epoch: 0031 cost= 0.215357968\n",
      "Epoch: 0032 cost= 0.255601718\n",
      "Epoch: 0033 cost= 0.218980473\n",
      "Epoch: 0034 cost= 0.181531797\n",
      "Epoch: 0035 cost= 0.230024821\n",
      "Epoch: 0036 cost= 0.238102139\n",
      "Epoch: 0037 cost= 0.161201598\n",
      "Epoch: 0038 cost= 0.202557698\n",
      "Epoch: 0039 cost= 0.238419952\n",
      "Epoch: 0040 cost= 0.202182068\n",
      "Epoch: 0041 cost= 0.196296798\n",
      "Epoch: 0042 cost= 0.191706887\n",
      "Epoch: 0043 cost= 0.243707354\n",
      "Epoch: 0044 cost= 0.156867721\n",
      "Epoch: 0045 cost= 0.190544756\n",
      "Epoch: 0046 cost= 0.135088546\n",
      "Epoch: 0047 cost= 0.158834951\n",
      "Epoch: 0048 cost= 0.155608654\n",
      "Epoch: 0049 cost= 0.208547254\n",
      "Epoch: 0050 cost= 0.181985060\n",
      "Epoch: 0051 cost= 0.144339339\n",
      "Epoch: 0052 cost= 0.143960875\n",
      "Epoch: 0053 cost= 0.070256385\n",
      "Epoch: 0054 cost= 0.124791447\n",
      "Epoch: 0055 cost= 0.178060517\n",
      "Epoch: 0056 cost= 0.111171792\n",
      "Epoch: 0057 cost= 0.164460248\n",
      "Epoch: 0058 cost= 0.163468439\n",
      "Epoch: 0059 cost= 0.099697253\n",
      "Epoch: 0060 cost= 0.107840303\n",
      "Epoch: 0061 cost= 0.173575991\n",
      "Epoch: 0062 cost= 0.142382100\n",
      "Epoch: 0063 cost= 0.155034773\n",
      "Epoch: 0064 cost= 0.147290600\n",
      "Epoch: 0065 cost= 0.134068358\n",
      "Epoch: 0066 cost= 0.087043963\n",
      "Epoch: 0067 cost= 0.137575722\n",
      "Epoch: 0068 cost= 0.123282383\n",
      "Epoch: 0069 cost= 0.145302634\n",
      "Epoch: 0070 cost= 0.128047163\n",
      "Epoch: 0071 cost= 0.070123675\n",
      "Epoch: 0072 cost= 0.083890181\n",
      "Epoch: 0073 cost= 0.098247398\n",
      "Epoch: 0074 cost= 0.099640173\n",
      "Epoch: 0075 cost= 0.112963749\n",
      "Epoch: 0076 cost= 0.113042264\n",
      "Epoch: 0077 cost= 0.100165373\n",
      "Epoch: 0078 cost= 0.142333040\n",
      "Epoch: 0079 cost= 0.121704263\n",
      "Epoch: 0080 cost= 0.088370372\n",
      "Epoch: 0081 cost= 0.144334944\n",
      "Epoch: 0082 cost= 0.120774513\n",
      "Epoch: 0083 cost= 0.069155193\n",
      "Epoch: 0084 cost= 0.080618112\n",
      "Epoch: 0085 cost= 0.095796792\n",
      "Epoch: 0086 cost= 0.098191255\n",
      "Epoch: 0087 cost= 0.103373761\n",
      "Epoch: 0088 cost= 0.116695851\n",
      "Epoch: 0089 cost= 0.132698464\n",
      "Epoch: 0090 cost= 0.058177342\n",
      "Epoch: 0091 cost= 0.107600395\n",
      "Epoch: 0092 cost= 0.105370606\n",
      "Epoch: 0093 cost= 0.091124870\n",
      "Epoch: 0094 cost= 0.083295983\n",
      "Epoch: 0095 cost= 0.086391927\n",
      "Epoch: 0096 cost= 0.061689236\n",
      "Epoch: 0097 cost= 0.111840998\n",
      "Epoch: 0098 cost= 0.094415079\n",
      "Epoch: 0099 cost= 0.073856313\n",
      "Epoch: 0100 cost= 0.079020798\n",
      "Optimization Finished!\n",
      "Accuracy: 0.968\n"
     ]
    }
   ],
   "source": [
    "# Launch the graph\n",
    "with tf.Session() as sess:\n",
    "    sess.run(init)\n",
    "\n",
    "    # Training cycle\n",
    "    for epoch in range(training_epochs):\n",
    "        avg_cost = 0.\n",
    "        total_batch = int(mnist.train.num_examples/batch_size)\n",
    "        # Loop over all batches\n",
    "        for i in range(total_batch):\n",
    "            batch_x, batch_y = mnist.train.next_batch(batch_size)\n",
    "            # Run optimization op (backprop) and cost op (to get loss value)\n",
    "            _, c = sess.run([optimizer, cost], feed_dict={x: batch_x, y: batch_y})\n",
    "            # Compute average loss\n",
    "            avg_cost += c / total_batch\n",
    "        # Display logs per epoch step\n",
    "        if epoch % display_step == 0:\n",
    "            print \"Epoch:\", '%04d' % (epoch+1), \"cost=\", \"{:.9f}\".format(avg_cost)\n",
    "    print \"Optimization Finished!\"\n",
    "\n",
    "    # Test model\n",
    "    correct_prediction = tf.equal(tf.argmax(pred, 1), tf.argmax(y, 1))\n",
    "    # Calculate accuracy\n",
    "    accuracy = tf.reduce_mean(tf.cast(correct_prediction, \"float\"))\n",
    "    print \"Accuracy:\", accuracy.eval({x: mnist.test.images, y: mnist.test.labels})"
   ]
  },
  {
   "cell_type": "markdown",
   "metadata": {
    "collapsed": true
   },
   "source": [
    "# Part 7: CNN"
   ]
  },
  {
   "cell_type": "code",
   "execution_count": 1,
   "metadata": {
    "collapsed": true
   },
   "outputs": [],
   "source": [
    "from tensorflow.examples.tutorials.mnist import input_data\n",
    "import tensorflow as tf"
   ]
  },
  {
   "cell_type": "code",
   "execution_count": 2,
   "metadata": {
    "collapsed": false
   },
   "outputs": [
    {
     "name": "stdout",
     "output_type": "stream",
     "text": [
      "Extracting /Users/firdause/Downloads/Special/MNIST_data/train-images-idx3-ubyte.gz\n",
      "Extracting /Users/firdause/Downloads/Special/MNIST_data/train-labels-idx1-ubyte.gz\n",
      "Extracting /Users/firdause/Downloads/Special/MNIST_data/t10k-images-idx3-ubyte.gz\n",
      "Extracting /Users/firdause/Downloads/Special/MNIST_data/t10k-labels-idx1-ubyte.gz\n"
     ]
    }
   ],
   "source": [
    "mnist = input_data.read_data_sets('/Users/firdause/Downloads/Special/MNIST_data', one_hot=True)"
   ]
  },
  {
   "cell_type": "code",
   "execution_count": 3,
   "metadata": {
    "collapsed": true
   },
   "outputs": [],
   "source": [
    "# Parameters\n",
    "learning_rate = 0.001\n",
    "training_iters = 200000\n",
    "batch_size = 128\n",
    "display_step = 10\n",
    "\n",
    "# Network Parameters\n",
    "n_input = 784 # MNIST data input (img shape: 28*28)\n",
    "n_classes = 10 # MNIST total classes (0-9 digits)\n",
    "dropout = 0.75 # Dropout, probability to keep units\n",
    "\n",
    "# tf Graph input\n",
    "x = tf.placeholder(tf.float32, [None, n_input])\n",
    "y = tf.placeholder(tf.float32, [None, n_classes])\n",
    "keep_prob = tf.placeholder(tf.float32) #dropout (keep probability)"
   ]
  },
  {
   "cell_type": "code",
   "execution_count": 4,
   "metadata": {
    "collapsed": true
   },
   "outputs": [],
   "source": [
    "# Create some wrappers for simplicity\n",
    "def conv2d(x, W, b, strides=1):\n",
    "    # Conv2D wrapper, with bias and relu activation\n",
    "    x = tf.nn.conv2d(x, W, strides=[1, strides, strides, 1], padding='SAME')\n",
    "    x = tf.nn.bias_add(x, b)\n",
    "    return tf.nn.relu(x)\n",
    "\n",
    "\n",
    "def maxpool2d(x, k=2):\n",
    "    # MaxPool2D wrapper\n",
    "    return tf.nn.max_pool(x, ksize=[1, k, k, 1], strides=[1, k, k, 1], padding='SAME')\n",
    "\n",
    "\n",
    "# Create model\n",
    "def conv_net(x, weights, biases, dropout):\n",
    "    # Reshape input picture\n",
    "    x = tf.reshape(x, shape=[-1, 28, 28, 1])\n",
    "\n",
    "    # Convolution Layer\n",
    "    conv1 = conv2d(x, weights['wc1'], biases['bc1'])\n",
    "    # Max Pooling (down-sampling)\n",
    "    conv1 = maxpool2d(conv1, k=2)\n",
    "\n",
    "    # Convolution Layer\n",
    "    conv2 = conv2d(conv1, weights['wc2'], biases['bc2'])\n",
    "    # Max Pooling (down-sampling)\n",
    "    conv2 = maxpool2d(conv2, k=2)\n",
    "\n",
    "    # Fully connected layer\n",
    "    # Reshape conv2 output to fit fully connected layer input\n",
    "    fc1 = tf.reshape(conv2, [-1, weights['wd1'].get_shape().as_list()[0]])\n",
    "    fc1 = tf.add(tf.matmul(fc1, weights['wd1']), biases['bd1'])\n",
    "    fc1 = tf.nn.relu(fc1)\n",
    "    # Apply Dropout\n",
    "    fc1 = tf.nn.dropout(fc1, dropout)\n",
    "\n",
    "    # Output, class prediction\n",
    "    out = tf.add(tf.matmul(fc1, weights['out']), biases['out'])\n",
    "    return out"
   ]
  },
  {
   "cell_type": "code",
   "execution_count": 5,
   "metadata": {
    "collapsed": true
   },
   "outputs": [],
   "source": [
    "# Store layers weight & bias\n",
    "weights = {\n",
    "    # 5x5 conv, 1 input, 32 outputs\n",
    "    'wc1': tf.Variable(tf.random_normal([5, 5, 1, 32])),\n",
    "    # 5x5 conv, 32 inputs, 64 outputs\n",
    "    'wc2': tf.Variable(tf.random_normal([5, 5, 32, 64])),\n",
    "    # fully connected, 7*7*64 inputs, 1024 outputs\n",
    "    'wd1': tf.Variable(tf.random_normal([7*7*64, 1024])),\n",
    "    # 1024 inputs, 10 outputs (class prediction)\n",
    "    'out': tf.Variable(tf.random_normal([1024, n_classes]))\n",
    "}\n",
    "\n",
    "biases = {\n",
    "    'bc1': tf.Variable(tf.random_normal([32])),\n",
    "    'bc2': tf.Variable(tf.random_normal([64])),\n",
    "    'bd1': tf.Variable(tf.random_normal([1024])),\n",
    "    'out': tf.Variable(tf.random_normal([n_classes]))\n",
    "}\n",
    "\n",
    "# Construct model\n",
    "pred = conv_net(x, weights, biases, keep_prob)\n",
    "\n",
    "# Define loss and optimizer\n",
    "cost = tf.reduce_mean(tf.nn.softmax_cross_entropy_with_logits(pred, y))\n",
    "optimizer = tf.train.AdamOptimizer(learning_rate=learning_rate).minimize(cost)\n",
    "\n",
    "# Evaluate model\n",
    "correct_pred = tf.equal(tf.argmax(pred, 1), tf.argmax(y, 1))\n",
    "accuracy = tf.reduce_mean(tf.cast(correct_pred, tf.float32))\n",
    "\n",
    "# Initializing the variables\n",
    "init = tf.initialize_all_variables()"
   ]
  },
  {
   "cell_type": "code",
   "execution_count": 6,
   "metadata": {
    "collapsed": false
   },
   "outputs": [
    {
     "name": "stdout",
     "output_type": "stream",
     "text": [
      "Iter 1280, Minibatch Loss= 25755.042969, Training Accuracy= 0.27344\n",
      "Iter 2560, Minibatch Loss= 12072.064453, Training Accuracy= 0.50000\n",
      "Iter 3840, Minibatch Loss= 11676.448242, Training Accuracy= 0.55469\n",
      "Iter 5120, Minibatch Loss= 5224.934570, Training Accuracy= 0.70312\n",
      "Iter 6400, Minibatch Loss= 3957.132812, Training Accuracy= 0.77344\n",
      "Iter 7680, Minibatch Loss= 8581.132812, Training Accuracy= 0.72656\n",
      "Iter 8960, Minibatch Loss= 3634.357910, Training Accuracy= 0.76562\n",
      "Iter 10240, Minibatch Loss= 3968.686523, Training Accuracy= 0.77344\n",
      "Iter 11520, Minibatch Loss= 2676.420410, Training Accuracy= 0.83594\n",
      "Iter 12800, Minibatch Loss= 3675.953857, Training Accuracy= 0.79688\n",
      "Iter 14080, Minibatch Loss= 1508.251221, Training Accuracy= 0.87500\n",
      "Iter 15360, Minibatch Loss= 1760.329590, Training Accuracy= 0.90625\n",
      "Iter 16640, Minibatch Loss= 2529.463379, Training Accuracy= 0.86719\n",
      "Iter 17920, Minibatch Loss= 1811.808350, Training Accuracy= 0.88281\n",
      "Iter 19200, Minibatch Loss= 1766.270264, Training Accuracy= 0.87500\n",
      "Iter 20480, Minibatch Loss= 533.533630, Training Accuracy= 0.95312\n",
      "Iter 21760, Minibatch Loss= 3216.217773, Training Accuracy= 0.84375\n",
      "Iter 23040, Minibatch Loss= 964.133850, Training Accuracy= 0.93750\n",
      "Iter 24320, Minibatch Loss= 935.737915, Training Accuracy= 0.90625\n",
      "Iter 25600, Minibatch Loss= 1307.045898, Training Accuracy= 0.87500\n",
      "Iter 26880, Minibatch Loss= 1185.211426, Training Accuracy= 0.92969\n",
      "Iter 28160, Minibatch Loss= 1332.125732, Training Accuracy= 0.90625\n",
      "Iter 29440, Minibatch Loss= 1361.605469, Training Accuracy= 0.92969\n",
      "Iter 30720, Minibatch Loss= 438.367493, Training Accuracy= 0.90625\n",
      "Iter 32000, Minibatch Loss= 1028.990967, Training Accuracy= 0.93750\n",
      "Iter 33280, Minibatch Loss= 1115.346802, Training Accuracy= 0.92188\n",
      "Iter 34560, Minibatch Loss= 448.448792, Training Accuracy= 0.95312\n",
      "Iter 35840, Minibatch Loss= 339.147827, Training Accuracy= 0.93750\n",
      "Iter 37120, Minibatch Loss= 1174.727783, Training Accuracy= 0.90625\n",
      "Iter 38400, Minibatch Loss= 230.473572, Training Accuracy= 0.96094\n",
      "Iter 39680, Minibatch Loss= 144.154221, Training Accuracy= 0.96875\n",
      "Iter 40960, Minibatch Loss= 1684.666748, Training Accuracy= 0.92188\n",
      "Iter 42240, Minibatch Loss= 584.684204, Training Accuracy= 0.93750\n",
      "Iter 43520, Minibatch Loss= 292.644165, Training Accuracy= 0.96875\n",
      "Iter 44800, Minibatch Loss= 691.077148, Training Accuracy= 0.91406\n",
      "Iter 46080, Minibatch Loss= 234.877380, Training Accuracy= 0.98438\n",
      "Iter 47360, Minibatch Loss= 939.048340, Training Accuracy= 0.93750\n",
      "Iter 48640, Minibatch Loss= 1134.765503, Training Accuracy= 0.92969\n",
      "Iter 49920, Minibatch Loss= 841.006042, Training Accuracy= 0.89062\n",
      "Iter 51200, Minibatch Loss= 494.720093, Training Accuracy= 0.94531\n",
      "Iter 52480, Minibatch Loss= 519.220825, Training Accuracy= 0.92969\n",
      "Iter 53760, Minibatch Loss= 349.974640, Training Accuracy= 0.96094\n",
      "Iter 55040, Minibatch Loss= 645.214966, Training Accuracy= 0.94531\n",
      "Iter 56320, Minibatch Loss= 810.793274, Training Accuracy= 0.95312\n",
      "Iter 57600, Minibatch Loss= 987.639893, Training Accuracy= 0.89844\n",
      "Iter 58880, Minibatch Loss= 291.604980, Training Accuracy= 0.95312\n",
      "Iter 60160, Minibatch Loss= 522.503601, Training Accuracy= 0.92969\n",
      "Iter 61440, Minibatch Loss= 714.484863, Training Accuracy= 0.95312\n",
      "Iter 62720, Minibatch Loss= 613.155334, Training Accuracy= 0.94531\n",
      "Iter 64000, Minibatch Loss= 448.739929, Training Accuracy= 0.94531\n",
      "Iter 65280, Minibatch Loss= 893.877747, Training Accuracy= 0.92969\n",
      "Iter 66560, Minibatch Loss= 1002.027405, Training Accuracy= 0.92969\n",
      "Iter 67840, Minibatch Loss= 1322.309937, Training Accuracy= 0.93750\n",
      "Iter 69120, Minibatch Loss= 1183.021851, Training Accuracy= 0.94531\n",
      "Iter 70400, Minibatch Loss= 256.492401, Training Accuracy= 0.96094\n",
      "Iter 71680, Minibatch Loss= 722.165161, Training Accuracy= 0.93750\n",
      "Iter 72960, Minibatch Loss= 433.866760, Training Accuracy= 0.96094\n",
      "Iter 74240, Minibatch Loss= 310.220978, Training Accuracy= 0.94531\n",
      "Iter 75520, Minibatch Loss= 514.408508, Training Accuracy= 0.96094\n",
      "Iter 76800, Minibatch Loss= 540.333862, Training Accuracy= 0.97656\n",
      "Iter 78080, Minibatch Loss= 493.780396, Training Accuracy= 0.93750\n",
      "Iter 79360, Minibatch Loss= 183.647247, Training Accuracy= 0.97656\n",
      "Iter 80640, Minibatch Loss= 1867.674683, Training Accuracy= 0.90625\n",
      "Iter 81920, Minibatch Loss= 602.821472, Training Accuracy= 0.96094\n",
      "Iter 83200, Minibatch Loss= 630.452637, Training Accuracy= 0.94531\n",
      "Iter 84480, Minibatch Loss= 181.362274, Training Accuracy= 0.96875\n",
      "Iter 85760, Minibatch Loss= 71.654984, Training Accuracy= 0.96094\n",
      "Iter 87040, Minibatch Loss= 231.959641, Training Accuracy= 0.96094\n",
      "Iter 88320, Minibatch Loss= 672.573486, Training Accuracy= 0.92969\n",
      "Iter 89600, Minibatch Loss= 323.757019, Training Accuracy= 0.96875\n",
      "Iter 90880, Minibatch Loss= 242.680344, Training Accuracy= 0.96094\n",
      "Iter 92160, Minibatch Loss= 375.448242, Training Accuracy= 0.97656\n",
      "Iter 93440, Minibatch Loss= 368.056519, Training Accuracy= 0.95312\n",
      "Iter 94720, Minibatch Loss= 125.799408, Training Accuracy= 0.98438\n",
      "Iter 96000, Minibatch Loss= 175.216690, Training Accuracy= 0.96094\n",
      "Iter 97280, Minibatch Loss= 280.941223, Training Accuracy= 0.95312\n",
      "Iter 98560, Minibatch Loss= 388.665161, Training Accuracy= 0.95312\n",
      "Iter 99840, Minibatch Loss= 384.389801, Training Accuracy= 0.95312\n",
      "Iter 101120, Minibatch Loss= 284.231079, Training Accuracy= 0.96875\n",
      "Iter 102400, Minibatch Loss= 238.651230, Training Accuracy= 0.96094\n",
      "Iter 103680, Minibatch Loss= 187.117493, Training Accuracy= 0.96094\n",
      "Iter 104960, Minibatch Loss= 673.009644, Training Accuracy= 0.92969\n",
      "Iter 106240, Minibatch Loss= 507.738770, Training Accuracy= 0.96094\n",
      "Iter 107520, Minibatch Loss= 573.016052, Training Accuracy= 0.93750\n",
      "Iter 108800, Minibatch Loss= 143.668518, Training Accuracy= 0.97656\n",
      "Iter 110080, Minibatch Loss= 41.592041, Training Accuracy= 0.96875\n",
      "Iter 111360, Minibatch Loss= 198.190491, Training Accuracy= 0.96875\n",
      "Iter 112640, Minibatch Loss= 277.089111, Training Accuracy= 0.96094\n",
      "Iter 113920, Minibatch Loss= 361.236694, Training Accuracy= 0.93750\n",
      "Iter 115200, Minibatch Loss= 172.651230, Training Accuracy= 0.97656\n",
      "Iter 116480, Minibatch Loss= 508.136658, Training Accuracy= 0.95312\n",
      "Iter 117760, Minibatch Loss= 258.528748, Training Accuracy= 0.96875\n",
      "Iter 119040, Minibatch Loss= 606.713074, Training Accuracy= 0.96094\n",
      "Iter 120320, Minibatch Loss= 385.550568, Training Accuracy= 0.95312\n",
      "Iter 121600, Minibatch Loss= 217.502075, Training Accuracy= 0.96875\n",
      "Iter 122880, Minibatch Loss= 76.664566, Training Accuracy= 0.98438\n",
      "Iter 124160, Minibatch Loss= 195.854996, Training Accuracy= 0.96875\n",
      "Iter 125440, Minibatch Loss= 317.649048, Training Accuracy= 0.96094\n",
      "Iter 126720, Minibatch Loss= 482.577271, Training Accuracy= 0.96094\n",
      "Iter 128000, Minibatch Loss= 348.686218, Training Accuracy= 0.94531\n",
      "Iter 129280, Minibatch Loss= 178.059219, Training Accuracy= 0.94531\n",
      "Iter 130560, Minibatch Loss= 365.187042, Training Accuracy= 0.95312\n",
      "Iter 131840, Minibatch Loss= 320.178406, Training Accuracy= 0.96875\n",
      "Iter 133120, Minibatch Loss= 423.700195, Training Accuracy= 0.93750\n",
      "Iter 134400, Minibatch Loss= 845.734375, Training Accuracy= 0.93750\n",
      "Iter 135680, Minibatch Loss= 398.460632, Training Accuracy= 0.95312\n",
      "Iter 136960, Minibatch Loss= 428.739868, Training Accuracy= 0.95312\n",
      "Iter 138240, Minibatch Loss= 69.017815, Training Accuracy= 0.98438\n",
      "Iter 139520, Minibatch Loss= 191.892349, Training Accuracy= 0.96094\n",
      "Iter 140800, Minibatch Loss= 7.798531, Training Accuracy= 0.98438\n",
      "Iter 142080, Minibatch Loss= 451.196838, Training Accuracy= 0.94531\n",
      "Iter 143360, Minibatch Loss= 176.676620, Training Accuracy= 0.97656\n",
      "Iter 144640, Minibatch Loss= 65.769928, Training Accuracy= 0.96875\n",
      "Iter 145920, Minibatch Loss= 209.048645, Training Accuracy= 0.96094\n",
      "Iter 147200, Minibatch Loss= 64.718941, Training Accuracy= 0.97656\n",
      "Iter 148480, Minibatch Loss= 195.972809, Training Accuracy= 0.96094\n",
      "Iter 149760, Minibatch Loss= 309.028473, Training Accuracy= 0.93750\n",
      "Iter 151040, Minibatch Loss= 119.804871, Training Accuracy= 0.97656\n",
      "Iter 152320, Minibatch Loss= 243.429550, Training Accuracy= 0.96875\n",
      "Iter 153600, Minibatch Loss= 162.528107, Training Accuracy= 0.96875\n",
      "Iter 154880, Minibatch Loss= 235.143707, Training Accuracy= 0.97656\n",
      "Iter 156160, Minibatch Loss= 417.063904, Training Accuracy= 0.94531\n",
      "Iter 157440, Minibatch Loss= 21.922073, Training Accuracy= 0.98438\n",
      "Iter 158720, Minibatch Loss= 210.283142, Training Accuracy= 0.95312\n",
      "Iter 160000, Minibatch Loss= 448.902802, Training Accuracy= 0.95312\n",
      "Iter 161280, Minibatch Loss= 349.796082, Training Accuracy= 0.93750\n",
      "Iter 162560, Minibatch Loss= 141.425461, Training Accuracy= 0.96875\n",
      "Iter 163840, Minibatch Loss= 330.010254, Training Accuracy= 0.96094\n",
      "Iter 165120, Minibatch Loss= 237.412994, Training Accuracy= 0.96875\n",
      "Iter 166400, Minibatch Loss= 86.235855, Training Accuracy= 0.96094\n",
      "Iter 167680, Minibatch Loss= 225.672394, Training Accuracy= 0.96875\n",
      "Iter 168960, Minibatch Loss= 361.785126, Training Accuracy= 0.97656\n",
      "Iter 170240, Minibatch Loss= 233.521851, Training Accuracy= 0.95312\n",
      "Iter 171520, Minibatch Loss= 61.961311, Training Accuracy= 0.99219\n",
      "Iter 172800, Minibatch Loss= 140.391388, Training Accuracy= 0.97656\n",
      "Iter 174080, Minibatch Loss= 107.328117, Training Accuracy= 0.97656\n",
      "Iter 175360, Minibatch Loss= 78.400223, Training Accuracy= 0.97656\n",
      "Iter 176640, Minibatch Loss= 235.928391, Training Accuracy= 0.96094\n",
      "Iter 177920, Minibatch Loss= 53.897770, Training Accuracy= 0.98438\n",
      "Iter 179200, Minibatch Loss= 199.341797, Training Accuracy= 0.96875\n",
      "Iter 180480, Minibatch Loss= 29.097412, Training Accuracy= 0.98438\n",
      "Iter 181760, Minibatch Loss= 256.502441, Training Accuracy= 0.96094\n",
      "Iter 183040, Minibatch Loss= 177.186935, Training Accuracy= 0.95312\n",
      "Iter 184320, Minibatch Loss= 223.166687, Training Accuracy= 0.97656\n",
      "Iter 185600, Minibatch Loss= 15.879517, Training Accuracy= 0.97656\n",
      "Iter 186880, Minibatch Loss= 28.092850, Training Accuracy= 0.97656\n",
      "Iter 188160, Minibatch Loss= 24.160469, Training Accuracy= 0.98438\n",
      "Iter 189440, Minibatch Loss= 77.934593, Training Accuracy= 0.96875\n",
      "Iter 190720, Minibatch Loss= 195.965820, Training Accuracy= 0.96875\n",
      "Iter 192000, Minibatch Loss= 58.507057, Training Accuracy= 0.97656\n",
      "Iter 193280, Minibatch Loss= 61.528091, Training Accuracy= 0.96094\n",
      "Iter 194560, Minibatch Loss= 220.302338, Training Accuracy= 0.96875\n",
      "Iter 195840, Minibatch Loss= 57.704403, Training Accuracy= 0.96094\n",
      "Iter 197120, Minibatch Loss= 100.497955, Training Accuracy= 0.98438\n",
      "Iter 198400, Minibatch Loss= 208.470963, Training Accuracy= 0.97656\n",
      "Iter 199680, Minibatch Loss= 32.810532, Training Accuracy= 0.99219\n",
      "Optimization Finished!\n",
      "Testing Accuracy: 0.976562\n"
     ]
    }
   ],
   "source": [
    "# Launch the graph\n",
    "with tf.Session() as sess:\n",
    "    sess.run(init)\n",
    "    step = 1\n",
    "    # Keep training until reach max iterations\n",
    "    while step * batch_size < training_iters:\n",
    "        batch_x, batch_y = mnist.train.next_batch(batch_size)\n",
    "        # Run optimization op (backprop)\n",
    "        sess.run(optimizer, feed_dict={x: batch_x, y: batch_y, keep_prob: dropout})\n",
    "        if step % display_step == 0:\n",
    "            # Calculate batch loss and accuracy\n",
    "            loss, acc = sess.run([cost, accuracy], feed_dict={x: batch_x, y: batch_y, keep_prob: 1.})\n",
    "            print \"Iter \" + str(step*batch_size) + \", Minibatch Loss= \" + \\\n",
    "                  \"{:.6f}\".format(loss) + \", Training Accuracy= \" + \"{:.5f}\".format(acc)\n",
    "        step += 1\n",
    "    print \"Optimization Finished!\"\n",
    "\n",
    "    # Calculate accuracy for 256 mnist test images\n",
    "    print \"Testing Accuracy:\", \\\n",
    "        sess.run(accuracy, feed_dict={x: mnist.test.images[:256], y: mnist.test.labels[:256], keep_prob: 1.})"
   ]
  },
  {
   "cell_type": "code",
   "execution_count": null,
   "metadata": {
    "collapsed": true
   },
   "outputs": [],
   "source": []
  }
 ],
 "metadata": {
  "anaconda-cloud": {},
  "kernelspec": {
   "display_name": "Python [conda env:tensorflow]",
   "language": "python",
   "name": "conda-env-tensorflow-py"
  },
  "language_info": {
   "codemirror_mode": {
    "name": "ipython",
    "version": 2
   },
   "file_extension": ".py",
   "mimetype": "text/x-python",
   "name": "python",
   "nbconvert_exporter": "python",
   "pygments_lexer": "ipython2",
   "version": "2.7.12"
  }
 },
 "nbformat": 4,
 "nbformat_minor": 1
}
